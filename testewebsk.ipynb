{
 "cells": [
  {
   "cell_type": "code",
   "execution_count": 1,
   "metadata": {},
   "outputs": [
    {
     "name": "stderr",
     "output_type": "stream",
     "text": [
      "[WDM] - Downloading: 100%|██████████| 6.81M/6.81M [00:03<00:00, 2.09MB/s]\n"
     ]
    }
   ],
   "source": [
    "from selenium import webdriver\n",
    "from webdriver_manager.chrome import ChromeDriverManager\n",
    "from selenium.webdriver.chrome.service import Service \n",
    "\n",
    "servico=Service(ChromeDriverManager().install())\n",
    "\n",
    "navegador = webdriver.Chrome(service=servico)\n"
   ]
  },
  {
   "cell_type": "code",
   "execution_count": null,
   "metadata": {},
   "outputs": [],
   "source": [
    "navegador.get(\"https://www.google.com/search?q=banana&source=lmns&tbm=shop&client=opera-gx&hs=bHZ&hl=pt-BR&sa=X&ved=2ahUKEwjxyuTGwuv-AhU-B7kGHf6-DyMQ_AUoAnoECAEQAg\")\n"
   ]
  },
  {
   "cell_type": "code",
   "execution_count": 12,
   "metadata": {},
   "outputs": [
    {
     "name": "stdout",
     "output_type": "stream",
     "text": [
      "Kia Picanto Picanto Ex 1.1/1.0/ 1.0 Flex Aut. - R$42.990\n",
      "Ford Fiesta 1.5 S Flex 5p - R$41.990\n",
      "Volkswagen Polo Polo Comfort. 200 Tsi 1.0 Flex 12v Aut. - R$76.990\n",
      "Renault Sandero Stepway 1.6 Hi-power 5p - R$48.990\n",
      "Volkswagen Fox Fox Connect 1.6 Flex 8v 5p - R$64.900\n"
     ]
    }
   ],
   "source": [
    "from selenium import webdriver\n",
    "from selenium.webdriver.chrome.service import Service\n",
    "from selenium.webdriver.common.by import By\n",
    "from selenium.webdriver.common.keys import Keys\n",
    "from selenium.webdriver.chrome.options import Options\n",
    "from selenium.webdriver.support.ui import WebDriverWait\n",
    "from selenium.webdriver.support import expected_conditions as EC\n",
    "\n",
    "\n",
    "# Configurando o driver do Selenium\n",
    "service = Service('/caminho/para/chromedriver')\n",
    "chrome_options = Options()\n",
    "chrome_options.add_argument('--headless')  # Executa o navegador em modo headless (sem interface gráfica)\n",
    "driver = webdriver.Chrome(service=service, options=chrome_options)\n",
    "\n",
    "# Definindo o produto a ser buscado\n",
    "produto = input('Digite o nome do produto a ser buscado: ')\n",
    "\n",
    "# Navegando até a página de busca do Mercado Livre\n",
    "driver.get('https://www.mercadolivre.com.br/')\n",
    "search_box = driver.find_element(By.NAME, 'as_word')\n",
    "search_box.send_keys(produto)\n",
    "search_box.send_keys(Keys.RETURN)\n",
    "\n",
    "# Aguardando a página de resultados carregar\n",
    "element = WebDriverWait(driver, 10).until(\n",
    "    EC.presence_of_element_located((By.CLASS_NAME, 'ui-search-layout'))\n",
    ")\n",
    "\n",
    "# Imprimindo o nome e preço dos 5 primeiros resultados\n",
    "resultados = driver.find_elements(By.CLASS_NAME, 'ui-search-result__content')\n",
    "for i in range(5):\n",
    "    nome = resultados[i].find_element(By.CLASS_NAME, 'ui-search-item__title').text\n",
    "    preco = resultados[i].find_element(By.CLASS_NAME, 'price-tag-fraction').text\n",
    "    print(f'{nome} - R${preco}')\n",
    "\n",
    "# Encerrando o driver do Selenium\n",
    "driver.quit()\n"
   ]
  }
 ],
 "metadata": {
  "kernelspec": {
   "display_name": "Python 3",
   "language": "python",
   "name": "python3"
  },
  "language_info": {
   "codemirror_mode": {
    "name": "ipython",
    "version": 3
   },
   "file_extension": ".py",
   "mimetype": "text/x-python",
   "name": "python",
   "nbconvert_exporter": "python",
   "pygments_lexer": "ipython3",
   "version": "3.11.2"
  },
  "orig_nbformat": 4
 },
 "nbformat": 4,
 "nbformat_minor": 2
}
