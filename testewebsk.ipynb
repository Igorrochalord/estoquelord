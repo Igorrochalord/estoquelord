{
 "cells": [
  {
   "cell_type": "code",
   "execution_count": 2,
   "metadata": {},
   "outputs": [
    {
     "name": "stderr",
     "output_type": "stream",
     "text": [
      "[WDM] - Downloading: 100%|██████████| 6.81M/6.81M [00:08<00:00, 859kB/s] \n"
     ]
    }
   ],
   "source": [
    "from selenium import webdriver\n",
    "from webdriver_manager.chrome import ChromeDriverManager\n",
    "from selenium.webdriver.chrome.service import Service \n",
    "\n",
    "servico=Service(ChromeDriverManager().install())\n",
    "\n",
    "navegador = webdriver.Chrome(service=servico)\n"
   ]
  },
  {
   "cell_type": "code",
   "execution_count": null,
   "metadata": {},
   "outputs": [],
   "source": [
    "navegador.get(\"https://www.google.com/search?q=banana&source=lmns&tbm=shop&client=opera-gx&hs=bHZ&hl=pt-BR&sa=X&ved=2ahUKEwjxyuTGwuv-AhU-B7kGHf6-DyMQ_AUoAnoECAEQAg\")\n"
   ]
  },
  {
   "cell_type": "code",
   "execution_count": null,
   "metadata": {},
   "outputs": [],
   "source": [
    "from selenium import webdriver\n",
    "from selenium.webdriver.chrome.service import Service\n",
    "from selenium.webdriver.common.by import By\n",
    "from selenium.webdriver.common.keys import Keys\n",
    "from selenium.webdriver.chrome.options import Options\n",
    "from selenium.webdriver.support.ui import WebDriverWait\n",
    "from selenium.webdriver.support import expected_conditions as EC\n",
    "\n",
    "\n",
    "# Configurando o driver do Selenium\n",
    "service = Service('/caminho/para/chromedriver')\n",
    "chrome_options = Options()\n",
    "chrome_options.add_argument('--headless')  # Executa o navegador em modo headless (sem interface gráfica)\n",
    "driver = webdriver.Chrome(service=service, options=chrome_options)\n",
    "\n",
    "# Definindo o produto a ser buscado\n",
    "produto = input('Digite o nome do produto a ser buscado: ')\n",
    "\n",
    "# Navegando até a página de busca do Mercado Livre\n",
    "driver.get('https://www.mercadolivre.com.br/')\n",
    "search_box = driver.find_element(By.NAME, 'as_word')\n",
    "search_box.send_keys(produto)\n",
    "search_box.send_keys(Keys.RETURN)\n",
    "\n",
    "# Aguardando a página de resultados carregar\n",
    "element = WebDriverWait(driver, 10).until(\n",
    "    EC.presence_of_element_located((By.CLASS_NAME, 'ui-search-layout'))\n",
    ")\n",
    "\n",
    "# Imprimindo o nome e preço dos 5 primeiros resultados\n",
    "resultados = driver.find_elements(By.CLASS_NAME, 'ui-search-result__content')\n",
    "for i in range(5):\n",
    "    nome = resultados[i].find_element(By.CLASS_NAME, 'ui-search-item__title').text\n",
    "    preco = resultados[i].find_element(By.CLASS_NAME, 'price-tag-fraction').text\n",
    "    print(f'{nome} - R${preco}')\n",
    "\n",
    "# Encerrando o driver do Selenium\n",
    "driver.quit()\n"
   ]
  },
  {
   "cell_type": "code",
   "execution_count": 6,
   "metadata": {},
   "outputs": [
    {
     "ename": "AttributeError",
     "evalue": "'WebDriver' object has no attribute 'find_elements_by_xpath'",
     "output_type": "error",
     "traceback": [
      "\u001b[1;31m---------------------------------------------------------------------------\u001b[0m",
      "\u001b[1;31mAttributeError\u001b[0m                            Traceback (most recent call last)",
      "Cell \u001b[1;32mIn[6], line 10\u001b[0m\n\u001b[0;32m      7\u001b[0m driver\u001b[39m.\u001b[39mget(\u001b[39m\"\u001b[39m\u001b[39mhttp://localhost/reustaurante/pages/\u001b[39m\u001b[39m\"\u001b[39m)\n\u001b[0;32m      9\u001b[0m \u001b[39m# Extrair todos os textos da página\u001b[39;00m\n\u001b[1;32m---> 10\u001b[0m textos \u001b[39m=\u001b[39m driver\u001b[39m.\u001b[39;49mfind_elements_by_xpath(\u001b[39m'\u001b[39m\u001b[39m//*\u001b[39m\u001b[39m'\u001b[39m)\u001b[39m.\u001b[39mtext\n\u001b[0;32m     12\u001b[0m \u001b[39m# Filtrar apenas os símbolos \"$\"\u001b[39;00m\n\u001b[0;32m     13\u001b[0m simbolos_dolar \u001b[39m=\u001b[39m [texto \u001b[39mfor\u001b[39;00m texto \u001b[39min\u001b[39;00m textos \u001b[39mif\u001b[39;00m \u001b[39m\"\u001b[39m\u001b[39mN\u001b[39m\u001b[39m\"\u001b[39m \u001b[39min\u001b[39;00m texto]\n",
      "\u001b[1;31mAttributeError\u001b[0m: 'WebDriver' object has no attribute 'find_elements_by_xpath'"
     ]
    }
   ],
   "source": [
    "from selenium import webdriver\n",
    "\n",
    "# Configurar o driver do Selenium (utilize o driver adequado para o seu navegador)\n",
    "driver = webdriver.Chrome(service=servico)\n",
    "\n",
    "# Abrir uma página web\n",
    "driver.get(\"http://localhost/reustaurante/pages/\")\n",
    "\n",
    "# Extrair todos os textos da página\n",
    "textos = driver.find_elements_by_xpath('//*').text\n",
    "\n",
    "# Filtrar apenas os símbolos \"$\"\n",
    "simbolos_dolar = [texto for texto in textos if \"N\" in texto]\n",
    "\n",
    "# Exibir os símbolos \"$\" encontrados\n",
    "for simbolo in simbolos_dolar:\n",
    "    print(simbolo)\n",
    "\n",
    "# Fechar o navegador\n",
    "driver.quit()"
   ]
  },
  {
   "cell_type": "code",
   "execution_count": 9,
   "metadata": {},
   "outputs": [
    {
     "name": "stdout",
     "output_type": "stream",
     "text": [
      "Ocorreu um erro: Message: no such element: Unable to locate element: {\"method\":\"css selector\",\"selector\":\"[name=\"search\"]\"}\n",
      "  (Session info: chrome=113.0.5672.127)\n",
      "Stacktrace:\n",
      "Backtrace:\n",
      "\tGetHandleVerifier [0x009A8893+48451]\n",
      "\t(No symbol) [0x0093B8A1]\n",
      "\t(No symbol) [0x00845058]\n",
      "\t(No symbol) [0x00870467]\n",
      "\t(No symbol) [0x0087069B]\n",
      "\t(No symbol) [0x0089DD92]\n",
      "\t(No symbol) [0x0088A304]\n",
      "\t(No symbol) [0x0089C482]\n",
      "\t(No symbol) [0x0088A0B6]\n",
      "\t(No symbol) [0x00867E08]\n",
      "\t(No symbol) [0x00868F2D]\n",
      "\tGetHandleVerifier [0x00C08E3A+2540266]\n",
      "\tGetHandleVerifier [0x00C48959+2801161]\n",
      "\tGetHandleVerifier [0x00C4295C+2776588]\n",
      "\tGetHandleVerifier [0x00A32280+612144]\n",
      "\t(No symbol) [0x00944F6C]\n",
      "\t(No symbol) [0x009411D8]\n",
      "\t(No symbol) [0x009412BB]\n",
      "\t(No symbol) [0x00934857]\n",
      "\tBaseThreadInitThunk [0x76177D59+25]\n",
      "\tRtlInitializeExceptionChain [0x7743B74B+107]\n",
      "\tRtlClearBits [0x7743B6CF+191]\n",
      "\n"
     ]
    }
   ],
   "source": [
    "from selenium import webdriver\n",
    "from selenium.webdriver.common.keys import Keys\n",
    "from selenium.webdriver.common.by import By\n",
    "from selenium.webdriver.support.ui import WebDriverWait\n",
    "from selenium.webdriver.support import expected_conditions as EC\n",
    "\n",
    "def buscar_preco_produto(termo_pesquisa):\n",
    "    # Inicializar o driver do Selenium\n",
    "    driver = webdriver.Chrome()\n",
    "\n",
    "    try:\n",
    "        # Navegar até o site de busca\n",
    "        driver.get('https://www.google.com/search?q=bananas%5D&source=lmns&tbm=shop&bih=715&biw=1495&client=opera-gx&hs=dLK&hl=pt-BR&sa=X&ved=2ahUKEwiDk_KR84f_AhVCB9QKHSaXCKQQ_AUoAnoECAEQAg')\n",
    "\n",
    "        # Localizar o campo de pesquisa e digitar o termo fornecido\n",
    "        campo_pesquisa = driver.find_element(By.NAME, 'search')\n",
    "        campo_pesquisa.send_keys(termo_pesquisa)\n",
    "        campo_pesquisa.send_keys(Keys.RETURN)\n",
    "\n",
    "        # Aguardar o carregamento da página de resultados\n",
    "        WebDriverWait(driver, 10).until(EC.title_contains('Resultados da pesquisa'))\n",
    "\n",
    "        # Localizar o elemento com o preço do produto na página\n",
    "        elemento_preco = driver.find_element(By.CSS_SELECTOR, '.produto .preco')\n",
    "\n",
    "        # Obter o texto do elemento com o preço do produto\n",
    "        preco_produto = elemento_preco.text\n",
    "\n",
    "        print(f\"Preço do produto '{termo_pesquisa}': {preco_produto}\")\n",
    "    except Exception as e:\n",
    "        print('Ocorreu um erro:', e)\n",
    "    finally:\n",
    "        # Fechar o driver do Selenium\n",
    "        driver.quit()\n",
    "\n",
    "# Chamar a função de busca de preço do produto com o termo de pesquisa desejado\n",
    "buscar_preco_produto('nome do produto')\n"
   ]
  },
  {
   "cell_type": "code",
   "execution_count": 13,
   "metadata": {},
   "outputs": [
    {
     "name": "stdout",
     "output_type": "stream",
     "text": [
      "Ocorreu um erro: 'WebDriver' object has no attribute 'find_element_by_css_selector'\n"
     ]
    }
   ],
   "source": [
    "from selenium import webdriver\n",
    "\n",
    "# Inicializar o driver do Selenium (neste exemplo, usando o Chrome)\n",
    "driver = webdriver.Chrome()\n",
    "\n",
    "try:\n",
    "    # Navegar até a página do produto\n",
    "    driver.get('https://www.google.com/search?q=banana&client=opera-gx&hs=JgK&sxsrf=APwXEdeB6Yyd_pFCUbLQ1BuaNVqye9_QcA:1684724512331&source=lnms&tbm=shop&sa=X&ved=2ahUKEwjv--fw94f_AhWkDtQKHeNgB7kQ_AUoAnoECAEQBA&biw=1495&bih=715&dpr=1.25')\n",
    "\n",
    "    # Localizar o elemento da foto do produto\n",
    "    elemento_foto = driver.find_element_by_css_selector('.foto-produto')\n",
    "    foto_url = elemento_foto.get_attribute('src')\n",
    "\n",
    "    # Localizar o elemento do preço do produto\n",
    "    elemento_preco = driver.find_element_by_css_selector('.preco-produto')\n",
    "    preco = elemento_preco.text\n",
    "\n",
    "    # Exibir a foto do produto e o preço\n",
    "    print('Foto do Produto:', foto_url)\n",
    "    print('Preço do Produto:', preco)\n",
    "\n",
    "except Exception as e:\n",
    "    print('Ocorreu um erro:', e)\n",
    "\n",
    "finally:\n",
    "    # Fechar o driver do Selenium\n",
    "    driver.quit()\n"
   ]
  },
  {
   "cell_type": "code",
   "execution_count": null,
   "metadata": {},
   "outputs": [],
   "source": [
    "from googleapiclient.discovery import build\n",
    "\n",
    "def buscar_precos_produtos(termo_pesquisa):\n",
    "    # Criar uma instância do serviço da API do Google Shopping\n",
    "    service = build('shopping', 'v1').products()\n",
    "\n",
    "    # Parâmetros da pesquisa\n",
    "    parametros = {\n",
    "        'country': 'US',  # País\n",
    "        'q': termo_pesquisa,  # Termo de pesquisa\n",
    "        'alt': 'json'  # Formato de resposta JSON\n",
    "    }\n",
    "\n",
    "    # Fazer a chamada à API para obter os resultados de pesquisa\n",
    "    resultados = service.list(**parametros).execute()\n",
    "\n",
    "    # Exibir informações dos produtos encontrados\n",
    "    for produto in resultados.get('products', []):\n",
    "        nome_produto = produto['title']\n",
    "        preco_produto = produto['price']\n",
    "        foto_produto = produto['images'][0]['link']\n",
    "\n",
    "        print('Produto:', nome_produto)\n",
    "        print('Preço:', preco_produto)\n",
    "        print('Foto:', foto_produto)\n",
    "        print()\n",
    "\n",
    "# Chamar a função de busca de preços dos produtos\n",
    "buscar_precos_produtos('banana')\n"
   ]
  }
 ],
 "metadata": {
  "kernelspec": {
   "display_name": "Python 3",
   "language": "python",
   "name": "python3"
  },
  "language_info": {
   "codemirror_mode": {
    "name": "ipython",
    "version": 3
   },
   "file_extension": ".py",
   "mimetype": "text/x-python",
   "name": "python",
   "nbconvert_exporter": "python",
   "pygments_lexer": "ipython3",
   "version": "3.11.2"
  },
  "orig_nbformat": 4
 },
 "nbformat": 4,
 "nbformat_minor": 2
}
